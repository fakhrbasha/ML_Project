{
 "cells": [
  {
   "cell_type": "code",
   "execution_count": 1,
   "id": "c3ced722-22ff-4282-846c-a2fb0fc66d45",
   "metadata": {},
   "outputs": [
    {
     "name": "stdout",
     "output_type": "stream",
     "text": [
      "Hello\n"
     ]
    }
   ],
   "source": [
    "#-------------------------------------------------------------------------------------------------------#\n",
    "#                                               FAKHR BASHA                                             #   \n",
    "#-------------------------------------------------------------------------------------------------------#"
   ]
  },
  {
   "cell_type": "code",
   "execution_count": 3,
   "id": "67ce2e58-ca75-4878-b456-8bf8b3298c63",
   "metadata": {},
   "outputs": [],
   "source": [
    "#-------------------------------------------------------------------------------------------------------#\n",
    "#                                               FAKHR BASHA                                             #   \n",
    "#-------------------------------------------------------------------------------------------------------#\n",
    "import numpy as np"
   ]
  },
  {
   "cell_type": "code",
   "execution_count": 5,
   "id": "50ddb682-ba37-49b6-a213-eb71eeb211d9",
   "metadata": {},
   "outputs": [
    {
     "name": "stdout",
     "output_type": "stream",
     "text": [
      "1.21.5\n"
     ]
    }
   ],
   "source": [
    "print(np.__version__)"
   ]
  },
  {
   "cell_type": "code",
   "execution_count": 9,
   "id": "3ebbde52-8015-4a66-bfba-c903c7d5518f",
   "metadata": {},
   "outputs": [
    {
     "name": "stdout",
     "output_type": "stream",
     "text": [
      "[1 2 3 4]\n",
      "<class 'numpy.ndarray'>\n"
     ]
    }
   ],
   "source": [
    "arr = np.array([1,2,3,4])\n",
    "print(arr) # [1 2 3 4]\n",
    "print(type(arr)) # numpy.ndarray"
   ]
  },
  {
   "cell_type": "code",
   "execution_count": 12,
   "id": "5f49dc51-6294-495b-bb37-ff6e1ce46f5e",
   "metadata": {},
   "outputs": [
    {
     "ename": "NameError",
     "evalue": "name 'np' is not defined",
     "output_type": "error",
     "traceback": [
      "\u001b[0;31m---------------------------------------------------------------------------\u001b[0m",
      "\u001b[0;31mNameError\u001b[0m                                 Traceback (most recent call last)",
      "Input \u001b[0;32mIn [12]\u001b[0m, in \u001b[0;36m<cell line: 1>\u001b[0;34m()\u001b[0m\n\u001b[0;32m----> 1\u001b[0m zero_D \u001b[38;5;241m=\u001b[39m \u001b[43mnp\u001b[49m\u001b[38;5;241m.\u001b[39marray([\u001b[38;5;241m24\u001b[39m])\n\u001b[1;32m      2\u001b[0m one_D \u001b[38;5;241m=\u001b[39m np\u001b[38;5;241m.\u001b[39marray([\u001b[38;5;241m1\u001b[39m,\u001b[38;5;241m2\u001b[39m,\u001b[38;5;241m3\u001b[39m,\u001b[38;5;241m4\u001b[39m,\u001b[38;5;241m5\u001b[39m])\n\u001b[1;32m      4\u001b[0m two_D \u001b[38;5;241m=\u001b[39m np\u001b[38;5;241m.\u001b[39marray([[\u001b[38;5;241m1\u001b[39m,\u001b[38;5;241m2\u001b[39m,\u001b[38;5;241m3\u001b[39m],[\u001b[38;5;241m4\u001b[39m,\u001b[38;5;241m5\u001b[39m,\u001b[38;5;241m6\u001b[39m]])\n",
      "\u001b[0;31mNameError\u001b[0m: name 'np' is not defined"
     ]
    }
   ],
   "source": [
    "zero_D = np.array([24])\n",
    "one_D = np.array([1,2,3,4,5])\n",
    "\n",
    "two_D = np.array([[1,2,3],[4,5,6]])\n",
    "\n",
    "three_D = np.array([[[1,2,3],[4,5,6]],[[1,2,3],[4,5,6]]])\n"
   ]
  },
  {
   "cell_type": "code",
   "execution_count": 15,
   "id": "1f35bb96-1558-40fb-ab4e-a87a8b771afc",
   "metadata": {},
   "outputs": [
    {
     "name": "stdout",
     "output_type": "stream",
     "text": [
      "[24]\n"
     ]
    }
   ],
   "source": [
    "print(zero_D)"
   ]
  },
  {
   "cell_type": "code",
   "execution_count": 17,
   "id": "2c93f4db-55bd-48fe-9c6f-6cf48ab2f96b",
   "metadata": {},
   "outputs": [
    {
     "name": "stdout",
     "output_type": "stream",
     "text": [
      "[1 2 3 4 5]\n",
      "[[1 2 3]\n",
      " [4 5 6]]\n",
      "[[[1 2 3]\n",
      "  [4 5 6]]\n",
      "\n",
      " [[1 2 3]\n",
      "  [4 5 6]]]\n"
     ]
    }
   ],
   "source": [
    "print(one_D)\n",
    "print(two_D)\n",
    "print(three_D)"
   ]
  },
  {
   "cell_type": "code",
   "execution_count": 19,
   "id": "d3cc0553-bf4e-42dd-acac-3bb2d0aeeec3",
   "metadata": {},
   "outputs": [
    {
     "name": "stdout",
     "output_type": "stream",
     "text": [
      "[[1 2 3]\n",
      " [4 5 6]]\n"
     ]
    }
   ],
   "source": [
    "print(two_D)"
   ]
  },
  {
   "cell_type": "code",
   "execution_count": 21,
   "id": "6886d70e-7269-46ed-830d-df385d4cc4db",
   "metadata": {},
   "outputs": [
    {
     "name": "stdout",
     "output_type": "stream",
     "text": [
      "[[[1 2 3]\n",
      "  [4 5 6]]\n",
      "\n",
      " [[1 2 3]\n",
      "  [4 5 6]]]\n"
     ]
    }
   ],
   "source": [
    "print(three_D)"
   ]
  },
  {
   "cell_type": "code",
   "execution_count": 23,
   "id": "38647aa1-ab9e-424e-86e1-b873fdc249af",
   "metadata": {},
   "outputs": [
    {
     "name": "stdout",
     "output_type": "stream",
     "text": [
      "1\n",
      "2\n",
      "3\n"
     ]
    }
   ],
   "source": [
    "print(one_D.ndim) #1\n",
    "print(two_D.ndim) #2\n",
    "print(three_D.ndim) #3"
   ]
  },
  {
   "cell_type": "code",
   "execution_count": 33,
   "id": "42d04eb6-1f60-4714-ab12-bf174d850639",
   "metadata": {},
   "outputs": [
    {
     "name": "stdout",
     "output_type": "stream",
     "text": [
      "[[[[[1 2 3 4 5]]]]]\n",
      " the number dimensions is :   5\n"
     ]
    }
   ],
   "source": [
    "arr = np.array([1,2,3,4,5] , ndmin=5 )\n",
    "print(arr)\n",
    "print(\" the number dimensions is :  \" ,  arr.ndim)"
   ]
  },
  {
   "cell_type": "code",
   "execution_count": 45,
   "id": "bae5a742-5b90-489b-9db8-69a8652582c0",
   "metadata": {},
   "outputs": [
    {
     "name": "stdout",
     "output_type": "stream",
     "text": [
      "1\n",
      "4\n",
      "5\n"
     ]
    }
   ],
   "source": [
    "# indexing\n",
    "print(one_D[0]) #1\n",
    "print(two_D[1][0]) #4\n",
    "print(one_D[1] + two_D[0][2]) # 2 + 3"
   ]
  },
  {
   "cell_type": "code",
   "execution_count": 47,
   "id": "46ac0ad3-2104-481b-9a47-ecb0791c5d5f",
   "metadata": {},
   "outputs": [
    {
     "name": "stdout",
     "output_type": "stream",
     "text": [
      "[2 3 4 5]\n"
     ]
    }
   ],
   "source": [
    "# Slicing\n",
    "arr = np.array([1,2,3,4,5,6,7])\n",
    "# slice 2 3 4 5\n",
    "# (start:end)\n",
    "# (start:end:step)\n",
    "print(arr[1:5])"
   ]
  },
  {
   "cell_type": "code",
   "execution_count": 49,
   "id": "81ce0d9b-f061-430b-a19e-a5eedef0ab45",
   "metadata": {},
   "outputs": [
    {
     "name": "stdout",
     "output_type": "stream",
     "text": [
      "[5 6 7]\n"
     ]
    }
   ],
   "source": [
    "# Slice elements from index 4 to the end of the array:\n",
    "print(arr[4:])\n",
    "# 5 6 7"
   ]
  },
  {
   "cell_type": "code",
   "execution_count": 51,
   "id": "02cb1f2e-5254-48af-b41e-39ea13ee31c2",
   "metadata": {},
   "outputs": [
    {
     "name": "stdout",
     "output_type": "stream",
     "text": [
      "[1 2 3 4]\n"
     ]
    }
   ],
   "source": [
    "# Slice elements from the beginning to index 4 (not included):\n",
    "print(arr[:4])"
   ]
  },
  {
   "cell_type": "code",
   "execution_count": 55,
   "id": "78bbde72-23b3-487e-8b00-828fd6999336",
   "metadata": {},
   "outputs": [
    {
     "name": "stdout",
     "output_type": "stream",
     "text": [
      "[2 4 6]\n"
     ]
    }
   ],
   "source": [
    "print(arr[1:7:2]) \n",
    "# here step = 2 inc +=2 "
   ]
  },
  {
   "cell_type": "code",
   "execution_count": 59,
   "id": "a18f9c67-bc0d-48b4-8d80-eff1f5260311",
   "metadata": {},
   "outputs": [
    {
     "name": "stdout",
     "output_type": "stream",
     "text": [
      "[ 5  6 10]\n"
     ]
    }
   ],
   "source": [
    "# Slicing 2-D Arrays\n",
    "arr = np.array([[1,2,3,7,8,9],[4,5,6,10,11,12]])\n",
    "print(arr[1 , 1:4])"
   ]
  },
  {
   "cell_type": "code",
   "execution_count": 63,
   "id": "4f465b12-b66b-4a0d-9788-dba4803d54be",
   "metadata": {},
   "outputs": [
    {
     "name": "stdout",
     "output_type": "stream",
     "text": [
      "[[ 2  3  7]\n",
      " [ 5  6 10]]\n"
     ]
    }
   ],
   "source": [
    "print(arr[0:2, 1:4])"
   ]
  },
  {
   "cell_type": "code",
   "execution_count": 65,
   "id": "12049162-f4ce-44ec-98d3-e1c15e735cff",
   "metadata": {},
   "outputs": [
    {
     "name": "stdout",
     "output_type": "stream",
     "text": [
      "int64\n"
     ]
    }
   ],
   "source": [
    "# data type\n",
    "arr=np.array([1,2,3,4])\n",
    "print(arr.dtype)"
   ]
  },
  {
   "cell_type": "code",
   "execution_count": 67,
   "id": "a7c85fe0-5ade-46a7-aa2a-e90f667418f0",
   "metadata": {},
   "outputs": [
    {
     "name": "stdout",
     "output_type": "stream",
     "text": [
      "<U8\n"
     ]
    }
   ],
   "source": [
    "arr = np.array([\"ahmeed\",\"mohameed\",\"salah\"])\n",
    "print(arr.dtype)"
   ]
  },
  {
   "cell_type": "code",
   "execution_count": 71,
   "id": "3bbde327-085f-4baf-8270-e449bb82eb95",
   "metadata": {},
   "outputs": [
    {
     "name": "stdout",
     "output_type": "stream",
     "text": [
      "[b'1' b'2' b'3' b'4']\n",
      "|S1\n"
     ]
    }
   ],
   "source": [
    "# Define Data Type\n",
    "arr = np.array([1,2,3,4] ,dtype = 'S')\n",
    "print (arr)\n",
    "print(arr.dtype)\n"
   ]
  },
  {
   "cell_type": "code",
   "execution_count": 77,
   "id": "b3599c06-8f3b-4560-9dd1-38c4721311e8",
   "metadata": {},
   "outputs": [
    {
     "name": "stdout",
     "output_type": "stream",
     "text": [
      "[1 2 3]\n",
      "int64\n",
      "[ True False  True]\n"
     ]
    }
   ],
   "source": [
    "# convert data type use astype()\n",
    "arr = np.array([1.2,2.3,3.4])\n",
    "new = arr.astype(int)\n",
    "print(new)\n",
    "print(new.dtype)\n",
    "# ------- # \n",
    "b = np.array([1,0,3])\n",
    "n = b.astype(bool)\n",
    "print(n)"
   ]
  },
  {
   "cell_type": "code",
   "execution_count": 79,
   "id": "c9f62db9-a2ef-414b-a488-92e23fcb1c73",
   "metadata": {},
   "outputs": [
    {
     "name": "stdout",
     "output_type": "stream",
     "text": [
      "[42  2  3  4  5]\n",
      "[1 2 3 4 5]\n"
     ]
    }
   ],
   "source": [
    "# copy and veiw\n",
    "arr = np.array([1,2,3,4,5])\n",
    "x = arr.copy()\n",
    "arr[0] = 42\n",
    "print (arr)\n",
    "print(x)"
   ]
  },
  {
   "cell_type": "code",
   "execution_count": 83,
   "id": "2066d649-35ac-46f0-8c4b-d30e49aab252",
   "metadata": {},
   "outputs": [
    {
     "name": "stdout",
     "output_type": "stream",
     "text": [
      "[42  2  3  4  5]\n",
      "[42  2  3  4  5]\n"
     ]
    }
   ],
   "source": [
    "arr = np.array([1,2,3,4,5])\n",
    "x = arr.view()\n",
    "arr[0] = 42\n",
    "print (arr)\n",
    "print(x)"
   ]
  },
  {
   "cell_type": "code",
   "execution_count": 12,
   "id": "66813fa6-9536-4782-acae-03d17bede7d5",
   "metadata": {},
   "outputs": [
    {
     "name": "stdout",
     "output_type": "stream",
     "text": [
      "[[ 1  2  3  5  4]\n",
      " [ 5  6  5 47  8]]\n"
     ]
    }
   ],
   "source": [
    "import numpy as np\n",
    "arr = np.array([[1,2,3,5,4],[5,6,5,47,8]])\n",
    "print(arr)"
   ]
  },
  {
   "cell_type": "code",
   "execution_count": 14,
   "id": "f8ceaf20-4b6e-42aa-a708-e29e82256633",
   "metadata": {},
   "outputs": [
    {
     "name": "stdout",
     "output_type": "stream",
     "text": [
      "(2, 5)\n"
     ]
    }
   ],
   "source": [
    "print(arr.shape)"
   ]
  },
  {
   "cell_type": "code",
   "execution_count": 20,
   "id": "a890f015-358c-40a4-a56f-12d1362e7844",
   "metadata": {},
   "outputs": [
    {
     "name": "stdout",
     "output_type": "stream",
     "text": [
      "(4, 3)\n",
      "[[ 1  2  3]\n",
      " [ 4  5  6]\n",
      " [ 7  8  9]\n",
      " [10 11 12]]\n"
     ]
    }
   ],
   "source": [
    "#Reshape\n",
    "\n",
    "arr = np.array([1,2,3,4,5,6,7,8,9,10,11,12])\n",
    "x = arr.reshape(4,3)\n",
    "print(x.shape)\n",
    "print(x)\n",
    "    "
   ]
  },
  {
   "cell_type": "code",
   "execution_count": 22,
   "id": "f1272bf6-0d09-4716-a915-4882b75ee5dd",
   "metadata": {},
   "outputs": [
    {
     "name": "stdout",
     "output_type": "stream",
     "text": [
      "1\n",
      "2\n",
      "3\n",
      "4\n"
     ]
    }
   ],
   "source": [
    "# iterating\n",
    "arr = np.array([1,2,3,4])\n",
    "for i in arr:\n",
    "    print(i)\n",
    "# 1_D              "
   ]
  },
  {
   "cell_type": "code",
   "execution_count": 24,
   "id": "a765a6de-90d4-4cae-888e-c8169e8c867f",
   "metadata": {},
   "outputs": [
    {
     "name": "stdout",
     "output_type": "stream",
     "text": [
      "[1 2 3]\n",
      "[4 5 6]\n"
     ]
    }
   ],
   "source": [
    "arr = np.array([[1,2,3],[4,5,6]])\n",
    "for i in arr:\n",
    "    print (i)"
   ]
  },
  {
   "cell_type": "code",
   "execution_count": 26,
   "id": "476cddb9-8ed0-4701-a18a-e99a01acfaa4",
   "metadata": {},
   "outputs": [
    {
     "name": "stdout",
     "output_type": "stream",
     "text": [
      "1\n",
      "2\n",
      "3\n",
      "4\n",
      "5\n",
      "6\n"
     ]
    }
   ],
   "source": [
    "arr = np.array([[1,2,3],[4,5,6]])\n",
    "for i in arr:\n",
    "    for x in i:\n",
    "        print(x)\n",
    "# 2_D"
   ]
  },
  {
   "cell_type": "code",
   "execution_count": 30,
   "id": "40760c93-6636-43d2-8309-507734353a45",
   "metadata": {},
   "outputs": [
    {
     "name": "stdout",
     "output_type": "stream",
     "text": [
      "1\n",
      "2\n",
      "3\n",
      "4\n",
      "5\n",
      "6\n",
      "7\n",
      "8\n"
     ]
    }
   ],
   "source": [
    "# Iterating Arrays Using nditer()\n",
    "arr = np.array([[[1, 2], [3, 4]], [[5, 6], [7, 8]]])\n",
    "for i in np.nditer(arr):\n",
    "     print(i)"
   ]
  },
  {
   "cell_type": "code",
   "execution_count": 34,
   "id": "51a0282f-fced-4c26-b79a-3cccfa31f0e0",
   "metadata": {},
   "outputs": [
    {
     "name": "stdout",
     "output_type": "stream",
     "text": [
      "[1 2 3 4 5 6]\n"
     ]
    }
   ],
   "source": [
    "# join\n",
    "arr1 = np.array([1,2,3])\n",
    "arr2 = np.array([4,5,6])\n",
    "\n",
    "arr = np.concatenate((arr1,arr2))\n",
    "print(arr)"
   ]
  },
  {
   "cell_type": "code",
   "execution_count": 40,
   "id": "ce2df760-4bb4-45c8-8232-7616fdf86226",
   "metadata": {},
   "outputs": [
    {
     "name": "stdout",
     "output_type": "stream",
     "text": [
      "[[1 4]\n",
      " [2 5]\n",
      " [3 6]]\n"
     ]
    }
   ],
   "source": [
    "arr = np.stack((arr1, arr2), axis=1)\n",
    "print(arr)\n",
    "# [1 4]\n",
    "# [2 5] etc"
   ]
  },
  {
   "cell_type": "code",
   "execution_count": 42,
   "id": "adb4e357-6a01-43d9-9de9-2143c9a86edf",
   "metadata": {},
   "outputs": [
    {
     "name": "stdout",
     "output_type": "stream",
     "text": [
      "[[1 2 3]\n",
      " [4 5 6]]\n"
     ]
    }
   ],
   "source": [
    "arr = np.vstack((arr1,arr2))\n",
    "print(arr)\n",
    "# make 2D\n"
   ]
  },
  {
   "cell_type": "code",
   "execution_count": null,
   "id": "947751b7-ad04-4397-93c8-732c06dbe73d",
   "metadata": {},
   "outputs": [],
   "source": []
  }
 ],
 "metadata": {
  "kernelspec": {
   "display_name": "anaconda-2022.05-py39",
   "language": "python",
   "name": "conda-env-anaconda-2022.05-py39-py"
  },
  "language_info": {
   "codemirror_mode": {
    "name": "ipython",
    "version": 3
   },
   "file_extension": ".py",
   "mimetype": "text/x-python",
   "name": "python",
   "nbconvert_exporter": "python",
   "pygments_lexer": "ipython3",
   "version": "3.9.12"
  }
 },
 "nbformat": 4,
 "nbformat_minor": 5
}
